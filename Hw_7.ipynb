{
  "nbformat": 4,
  "nbformat_minor": 0,
  "metadata": {
    "colab": {
      "provenance": []
    },
    "kernelspec": {
      "name": "python3",
      "display_name": "Python 3"
    },
    "language_info": {
      "name": "python"
    }
  },
  "cells": [
    {
      "cell_type": "code",
      "execution_count": 1,
      "metadata": {
        "id": "2mYnJ37frdkg",
        "colab": {
          "base_uri": "https://localhost:8080/"
        },
        "outputId": "0d732e8e-9b7a-422b-c8d6-4d0096a06f79"
      },
      "outputs": [
        {
          "output_type": "stream",
          "name": "stdout",
          "text": [
            "Collecting scikit-surprise\n",
            "  Downloading scikit-surprise-1.1.3.tar.gz (771 kB)\n",
            "\u001b[2K     \u001b[90m━━━━━━━━━━━━━━━━━━━━━━━━━━━━━━━━━━━━━━━━\u001b[0m \u001b[32m772.0/772.0 kB\u001b[0m \u001b[31m5.2 MB/s\u001b[0m eta \u001b[36m0:00:00\u001b[0m\n",
            "\u001b[?25h  Preparing metadata (setup.py) ... \u001b[?25l\u001b[?25hdone\n",
            "Requirement already satisfied: joblib>=1.0.0 in /usr/local/lib/python3.10/dist-packages (from scikit-surprise) (1.3.2)\n",
            "Requirement already satisfied: numpy>=1.17.3 in /usr/local/lib/python3.10/dist-packages (from scikit-surprise) (1.25.2)\n",
            "Requirement already satisfied: scipy>=1.3.2 in /usr/local/lib/python3.10/dist-packages (from scikit-surprise) (1.11.4)\n",
            "Building wheels for collected packages: scikit-surprise\n",
            "  Building wheel for scikit-surprise (setup.py) ... \u001b[?25l\u001b[?25hdone\n",
            "  Created wheel for scikit-surprise: filename=scikit_surprise-1.1.3-cp310-cp310-linux_x86_64.whl size=3162742 sha256=8c75f17b46c1f5a10974cfacfa60bfa90247e666520d1d146216a5af85295ca4\n",
            "  Stored in directory: /root/.cache/pip/wheels/a5/ca/a8/4e28def53797fdc4363ca4af740db15a9c2f1595ebc51fb445\n",
            "Successfully built scikit-surprise\n",
            "Installing collected packages: scikit-surprise\n",
            "Successfully installed scikit-surprise-1.1.3\n"
          ]
        }
      ],
      "source": [
        "!pip install scikit-surprise\n"
      ]
    },
    {
      "cell_type": "code",
      "source": [
        "\n",
        "import pandas as pd\n",
        "\n",
        "from surprise import Dataset, SVD, SVDpp, NMF, accuracy\n",
        "from surprise.model_selection import cross_validate, GridSearchCV\n",
        "\n",
        "from collections import defaultdict\n",
        "import statistics\n",
        "from surprise.model_selection import train_test_split"
      ],
      "metadata": {
        "id": "m2B5ZdsXx1Jv"
      },
      "execution_count": 2,
      "outputs": []
    },
    {
      "cell_type": "code",
      "source": [
        "data = Dataset.load_builtin(\"ml-100k\")"
      ],
      "metadata": {
        "colab": {
          "base_uri": "https://localhost:8080/"
        },
        "id": "kiYyOvKlx2rY",
        "outputId": "a57b9d1a-b831-4765-f04a-ef269f5f2e6d"
      },
      "execution_count": 3,
      "outputs": [
        {
          "output_type": "stream",
          "name": "stdout",
          "text": [
            "Dataset ml-100k could not be found. Do you want to download it? [Y/n] Y\n",
            "Trying to download dataset from https://files.grouplens.org/datasets/movielens/ml-100k.zip...\n",
            "Done! Dataset ml-100k has been saved to /root/.surprise_data/ml-100k\n"
          ]
        }
      ]
    },
    {
      "cell_type": "code",
      "source": [
        "raw_ratings = data.raw_ratings\n",
        "raw_ratings = [(user_id, item_id, rating) for user_id, item_id, rating, _ in raw_ratings]\n",
        "\n",
        "columns = ['user_id', 'item_id', 'rating']\n",
        "df = pd.DataFrame(raw_ratings, columns=columns)\n",
        "\n",
        "print(df.head())"
      ],
      "metadata": {
        "colab": {
          "base_uri": "https://localhost:8080/"
        },
        "id": "91h7H_skyDfu",
        "outputId": "a0902cc1-efcc-42e7-8291-39c0a5ed4f29"
      },
      "execution_count": 7,
      "outputs": [
        {
          "output_type": "stream",
          "name": "stdout",
          "text": [
            "  user_id item_id  rating\n",
            "0     196     242     3.0\n",
            "1     186     302     3.0\n",
            "2      22     377     1.0\n",
            "3     244      51     2.0\n",
            "4     166     346     1.0\n"
          ]
        }
      ]
    },
    {
      "cell_type": "code",
      "source": [
        "mean_rating = df['rating'].mean()\n",
        "std_rating = df['rating'].std()\n",
        "\n",
        "print(\"Mean Rating:\", mean_rating)\n",
        "print(\"Standard Deviation of Ratings:\", std_rating)"
      ],
      "metadata": {
        "colab": {
          "base_uri": "https://localhost:8080/"
        },
        "id": "tSqg5t6OzTZi",
        "outputId": "33f4f3d4-06b3-4b11-d8df-71a7cfdc9f23"
      },
      "execution_count": 8,
      "outputs": [
        {
          "output_type": "stream",
          "name": "stdout",
          "text": [
            "Mean Rating: 3.52986\n",
            "Standard Deviation of Ratings: 1.125673599144316\n"
          ]
        }
      ]
    },
    {
      "cell_type": "code",
      "source": [
        "trainset, testset = train_test_split(data, test_size=0.2)"
      ],
      "metadata": {
        "id": "RMTnCDFdzZBt"
      },
      "execution_count": 13,
      "outputs": []
    },
    {
      "cell_type": "markdown",
      "source": [
        "**SVD**"
      ],
      "metadata": {
        "id": "6vdes516zjHX"
      }
    },
    {
      "cell_type": "code",
      "source": [
        "param_grid_svd = {\n",
        "    'n_epochs': [10, 15, 20],\n",
        "    'lr_all': [0.002, 0.005],\n",
        "    'reg_all': [0.04, 0.06],\n",
        "    'n_factors': [1, 20, 50],\n",
        "    'init_mean': [mean_rating],\n",
        "    'init_std_dev': [0.1, 1]\n",
        "}"
      ],
      "metadata": {
        "id": "xTwFnOHzz1yC"
      },
      "execution_count": 9,
      "outputs": []
    },
    {
      "cell_type": "code",
      "source": [
        "grid_search_svd = GridSearchCV(SVD, param_grid_svd, measures=['rmse', 'mae'], cv=5, n_jobs=-1, joblib_verbose=5)\n",
        "\n",
        "grid_search_svd.fit(data)"
      ],
      "metadata": {
        "colab": {
          "base_uri": "https://localhost:8080/"
        },
        "id": "OHXsE3Pez7Vd",
        "outputId": "fc7b2adf-16c8-4bd2-c727-178ba240b98f"
      },
      "execution_count": 10,
      "outputs": [
        {
          "output_type": "stream",
          "name": "stderr",
          "text": [
            "[Parallel(n_jobs=-1)]: Using backend LokyBackend with 2 concurrent workers.\n",
            "[Parallel(n_jobs=-1)]: Done  14 tasks      | elapsed:    4.0s\n",
            "[Parallel(n_jobs=-1)]: Done  68 tasks      | elapsed:   18.3s\n",
            "[Parallel(n_jobs=-1)]: Done 158 tasks      | elapsed:   44.0s\n",
            "[Parallel(n_jobs=-1)]: Done 284 tasks      | elapsed:  1.4min\n",
            "[Parallel(n_jobs=-1)]: Done 360 out of 360 | elapsed:  1.9min finished\n"
          ]
        }
      ]
    },
    {
      "cell_type": "code",
      "source": [
        "print(grid_search_svd.best_params)\n",
        "print(grid_search_svd.best_score['rmse'])\n",
        "print(grid_search_svd.best_score['mae'])\n",
        "best_params_svd = grid_search_svd.best_params['rmse']\n",
        "print(best_params_svd)"
      ],
      "metadata": {
        "colab": {
          "base_uri": "https://localhost:8080/"
        },
        "id": "cr2aCs3-0lgk",
        "outputId": "72dccc52-e234-4774-d56f-54e05978253f"
      },
      "execution_count": 11,
      "outputs": [
        {
          "output_type": "stream",
          "name": "stdout",
          "text": [
            "{'rmse': {'n_epochs': 20, 'lr_all': 0.005, 'reg_all': 0.06, 'n_factors': 1, 'init_mean': 3.52986, 'init_std_dev': 0.1}, 'mae': {'n_epochs': 20, 'lr_all': 0.005, 'reg_all': 0.06, 'n_factors': 1, 'init_mean': 3.52986, 'init_std_dev': 0.1}}\n",
            "0.9513054147201618\n",
            "0.7492765859945156\n",
            "{'n_epochs': 20, 'lr_all': 0.005, 'reg_all': 0.06, 'n_factors': 1, 'init_mean': 3.52986, 'init_std_dev': 0.1}\n"
          ]
        }
      ]
    },
    {
      "cell_type": "code",
      "source": [
        "\n",
        "algo_svd = SVD(n_epochs=20, n_factors=1, lr_all=0.005, reg_all=0.06, init_mean=3.52986, init_std_dev=0.1)\n",
        "\n",
        "algo_svd.fit(trainset)\n",
        "\n",
        "predictions = algo_svd.test(testset)\n",
        "\n",
        "rmse = accuracy.rmse(predictions)\n",
        "mae = accuracy.mae(predictions)"
      ],
      "metadata": {
        "colab": {
          "base_uri": "https://localhost:8080/"
        },
        "id": "Gl7ZL2xw0qEg",
        "outputId": "38d948b7-84a3-471f-86b8-81784de540cc"
      },
      "execution_count": 14,
      "outputs": [
        {
          "output_type": "stream",
          "name": "stdout",
          "text": [
            "RMSE: 0.9488\n",
            "MAE:  0.7462\n"
          ]
        }
      ]
    },
    {
      "cell_type": "markdown",
      "source": [
        "**SVD++**"
      ],
      "metadata": {
        "id": "GcYe9NZO25ER"
      }
    },
    {
      "cell_type": "code",
      "source": [
        "param_grid_svd_plus = {\n",
        "    'n_epochs': [10, 15, 20],\n",
        "    'lr_all': [0.002, 0.005],\n",
        "    'reg_all': [0.04, 0.06],\n",
        "    'n_factors': [1, 20, 50],\n",
        "    'init_mean': [mean_rating],\n",
        "    'init_std_dev': [0.1]\n",
        "}"
      ],
      "metadata": {
        "id": "pJ8DNr852_IH"
      },
      "execution_count": 15,
      "outputs": []
    },
    {
      "cell_type": "code",
      "source": [
        "grid_search_svd_plus = GridSearchCV(SVDpp, param_grid_svd_plus, measures=['rmse', 'mae'], cv=3, n_jobs=-1, joblib_verbose=5)\n",
        "\n",
        "grid_search_svd_plus.fit(data)"
      ],
      "metadata": {
        "colab": {
          "base_uri": "https://localhost:8080/"
        },
        "id": "psrJikst3EyG",
        "outputId": "0a6956ec-d3b3-4a9f-bf9b-7ef0fb8a1bfa"
      },
      "execution_count": 16,
      "outputs": [
        {
          "output_type": "stream",
          "name": "stderr",
          "text": [
            "[Parallel(n_jobs=-1)]: Using backend LokyBackend with 2 concurrent workers.\n",
            "[Parallel(n_jobs=-1)]: Done  14 tasks      | elapsed:  2.0min\n",
            "[Parallel(n_jobs=-1)]: Done  68 tasks      | elapsed: 12.6min\n",
            "[Parallel(n_jobs=-1)]: Done 108 out of 108 | elapsed: 24.3min finished\n"
          ]
        }
      ]
    },
    {
      "cell_type": "code",
      "source": [
        "print(grid_search_svd_plus.best_params)\n",
        "print(grid_search_svd_plus.best_score['rmse'])\n",
        "print(grid_search_svd_plus.best_score['mae'])\n",
        "best_params_svd_plus = grid_search_svd_plus.best_params['rmse']\n",
        "print(best_params_svd_plus)"
      ],
      "metadata": {
        "colab": {
          "base_uri": "https://localhost:8080/"
        },
        "id": "EPQWXnu984mw",
        "outputId": "3390ab36-732a-4b43-dfaa-28701333d372"
      },
      "execution_count": 17,
      "outputs": [
        {
          "output_type": "stream",
          "name": "stdout",
          "text": [
            "{'rmse': {'n_epochs': 20, 'lr_all': 0.002, 'reg_all': 0.04, 'n_factors': 1, 'init_mean': 3.52986, 'init_std_dev': 0.1}, 'mae': {'n_epochs': 20, 'lr_all': 0.002, 'reg_all': 0.04, 'n_factors': 1, 'init_mean': 3.52986, 'init_std_dev': 0.1}}\n",
            "1.7660545742972467\n",
            "1.4379008379057285\n",
            "{'n_epochs': 20, 'lr_all': 0.002, 'reg_all': 0.04, 'n_factors': 1, 'init_mean': 3.52986, 'init_std_dev': 0.1}\n"
          ]
        }
      ]
    },
    {
      "cell_type": "code",
      "source": [
        "algo_svd_plus = SVDpp(n_epochs=20, n_factors=1, lr_all=0.002, reg_all=0.04, init_mean=3.52986, init_std_dev=0.1)\n",
        "\n",
        "algo_svd_plus.fit(trainset)\n",
        "\n",
        "predictions = algo_svd_plus.test(testset)\n",
        "\n",
        "rmse = accuracy.rmse(predictions)\n",
        "mae = accuracy.mae(predictions)"
      ],
      "metadata": {
        "colab": {
          "base_uri": "https://localhost:8080/"
        },
        "id": "f2HAwBsg9Y6B",
        "outputId": "5f3e0fba-d518-4e39-e431-fed50fea7ef5"
      },
      "execution_count": 18,
      "outputs": [
        {
          "output_type": "stream",
          "name": "stdout",
          "text": [
            "RMSE: 1.9725\n",
            "MAE:  1.6367\n"
          ]
        }
      ]
    },
    {
      "cell_type": "markdown",
      "source": [
        "**NMF**"
      ],
      "metadata": {
        "id": "Et8wQbdB9abK"
      }
    },
    {
      "cell_type": "code",
      "source": [
        "param_grid_nmf = {\n",
        "    'n_epochs': [10, 15, 20],\n",
        "    'n_factors': [1, 20, 50],\n",
        "    'reg_pu': [0.02, 0.04, 0.06],\n",
        "    'reg_qi': [0.02, 0.04, 0.06]\n",
        "}"
      ],
      "metadata": {
        "id": "wcIm0u769zyH"
      },
      "execution_count": 19,
      "outputs": []
    },
    {
      "cell_type": "code",
      "source": [
        "grid_search_nmf = GridSearchCV(NMF, param_grid_nmf, measures=['rmse', 'mae'], cv=3, n_jobs=-1, joblib_verbose=5)\n",
        "\n",
        "grid_search_nmf.fit(data)"
      ],
      "metadata": {
        "colab": {
          "base_uri": "https://localhost:8080/"
        },
        "id": "J_4t_g9e9345",
        "outputId": "adbe4df5-edea-4976-c900-52844bee7ce7"
      },
      "execution_count": 20,
      "outputs": [
        {
          "output_type": "stream",
          "name": "stderr",
          "text": [
            "[Parallel(n_jobs=-1)]: Using backend LokyBackend with 2 concurrent workers.\n",
            "[Parallel(n_jobs=-1)]: Done  14 tasks      | elapsed:    5.3s\n",
            "[Parallel(n_jobs=-1)]: Done  68 tasks      | elapsed:   24.2s\n",
            "[Parallel(n_jobs=-1)]: Done 158 tasks      | elapsed:  1.1min\n",
            "[Parallel(n_jobs=-1)]: Done 243 out of 243 | elapsed:  1.8min finished\n"
          ]
        }
      ]
    },
    {
      "cell_type": "code",
      "source": [
        "print(grid_search_nmf.best_params)\n",
        "print(grid_search_nmf.best_score['rmse'])\n",
        "print(grid_search_nmf.best_score['mae'])\n",
        "best_params_nmf = grid_search_nmf.best_params['rmse']\n",
        "print(best_params_nmf)"
      ],
      "metadata": {
        "colab": {
          "base_uri": "https://localhost:8080/"
        },
        "id": "z0ghu-yz-bLz",
        "outputId": "c6693fdd-86d1-4c7d-fcfd-26e4fa5ec98f"
      },
      "execution_count": 21,
      "outputs": [
        {
          "output_type": "stream",
          "name": "stdout",
          "text": [
            "{'rmse': {'n_epochs': 20, 'n_factors': 20, 'reg_pu': 0.06, 'reg_qi': 0.06}, 'mae': {'n_epochs': 20, 'n_factors': 20, 'reg_pu': 0.06, 'reg_qi': 0.06}}\n",
            "1.1114242644968486\n",
            "0.8463821365952997\n",
            "{'n_epochs': 20, 'n_factors': 20, 'reg_pu': 0.06, 'reg_qi': 0.06}\n"
          ]
        }
      ]
    },
    {
      "cell_type": "code",
      "source": [
        "algo_nmf = NMF(n_epochs=20, n_factors=20, reg_pu=0.06, reg_qi=0.06)\n",
        "\n",
        "algo_nmf.fit(trainset)\n",
        "\n",
        "predictions = algo_nmf.test(testset)\n",
        "\n",
        "rmse = accuracy.rmse(predictions)\n",
        "mae = accuracy.mae(predictions)"
      ],
      "metadata": {
        "colab": {
          "base_uri": "https://localhost:8080/"
        },
        "id": "UchJL-M0-gWK",
        "outputId": "eb3b637a-a5e4-41c0-b5a1-077285fadbf2"
      },
      "execution_count": 22,
      "outputs": [
        {
          "output_type": "stream",
          "name": "stdout",
          "text": [
            "RMSE: 1.0972\n",
            "MAE:  0.8347\n"
          ]
        }
      ]
    },
    {
      "cell_type": "code",
      "source": [
        "\n",
        "algos = [SVD(**best_params_svd), SVDpp(**best_params_svd_plus), NMF(**best_params_nmf)]\n",
        "for algo in algos:\n",
        "    results = cross_validate(algo, data, measures=['RMSE', 'MAE'], cv=5, verbose=True)\n",
        "    print(f\"Algorithm: {algo.__class__.__name__}\")\n",
        "    print(f\"RMSE: {sum(results['test_rmse']) / len(results['test_rmse'])}\")\n",
        "    print(f\"MAE: {sum(results['test_mae']) / len(results['test_mae'])}\")\n",
        "    print(\"---\")\n",
        ""
      ],
      "metadata": {
        "colab": {
          "base_uri": "https://localhost:8080/"
        },
        "id": "nkOojp7d-j4c",
        "outputId": "e4ccf1ec-d205-4711-9231-df1e3b707a3b"
      },
      "execution_count": 23,
      "outputs": [
        {
          "output_type": "stream",
          "name": "stdout",
          "text": [
            "Evaluating RMSE, MAE of algorithm SVD on 5 split(s).\n",
            "\n",
            "                  Fold 1  Fold 2  Fold 3  Fold 4  Fold 5  Mean    Std     \n",
            "RMSE (testset)    0.9504  0.9464  0.9592  0.9526  0.9518  0.9521  0.0041  \n",
            "MAE (testset)     0.7471  0.7455  0.7548  0.7518  0.7505  0.7499  0.0033  \n",
            "Fit time          0.40    0.43    0.26    0.52    0.70    0.46    0.15    \n",
            "Test time         0.31    0.08    0.18    0.14    0.08    0.16    0.09    \n",
            "Algorithm: SVD\n",
            "RMSE: 0.9520865532993291\n",
            "MAE: 0.7499409707752936\n",
            "---\n",
            "Evaluating RMSE, MAE of algorithm SVDpp on 5 split(s).\n",
            "\n",
            "                  Fold 1  Fold 2  Fold 3  Fold 4  Fold 5  Mean    Std     \n",
            "RMSE (testset)    1.8461  1.9495  1.9508  1.9838  1.9541  1.9369  0.0471  \n",
            "MAE (testset)     1.4647  1.6105  1.6131  1.6439  1.6126  1.5890  0.0633  \n",
            "Fit time          4.46    4.88    4.95    4.49    4.50    4.66    0.22    \n",
            "Test time         3.64    3.69    3.69    4.04    3.50    3.71    0.18    \n",
            "Algorithm: SVDpp\n",
            "RMSE: 1.936853769552793\n",
            "MAE: 1.588959054164065\n",
            "---\n",
            "Evaluating RMSE, MAE of algorithm NMF on 5 split(s).\n",
            "\n",
            "                  Fold 1  Fold 2  Fold 3  Fold 4  Fold 5  Mean    Std     \n",
            "RMSE (testset)    1.1151  1.1008  1.0930  1.1059  1.1033  1.1036  0.0072  \n",
            "MAE (testset)     0.8452  0.8350  0.8360  0.8448  0.8375  0.8397  0.0044  \n",
            "Fit time          0.97    0.71    0.75    0.70    0.70    0.77    0.10    \n",
            "Test time         0.22    0.06    0.17    0.06    0.07    0.12    0.06    \n",
            "Algorithm: NMF\n",
            "RMSE: 1.1036022494140152\n",
            "MAE: 0.8397175580989776\n",
            "---\n"
          ]
        }
      ]
    },
    {
      "cell_type": "markdown",
      "source": [
        "Висновок\n",
        "SVD:\n",
        "Найкращі параметри: {'n_epochs': 20, 'lr_all': 0.005, 'reg_all': 0.06, 'n_factors': 1, 'init_mean': 3.52986, 'init_std_dev': 0.1}\n",
        "Найкраща RMSE: 0.9517\n",
        "Найкраща MAE: 0.7498\n",
        "Середні часи навчання (Fit time) та часи тестування (Test time) на кожному спліті заняли відповідно приблизно 0.89 та 0.25 секунди.\n",
        "SVD++:\n",
        "Найкращі параметри: {'n_epochs': 20, 'lr_all': 0.002, 'reg_all': 0.04, 'n_factors': 1, 'init_mean': 3.52986, 'init_std_dev': 0.1}\n",
        "Найкраща RMSE: 1.7480\n",
        "Найкраща MAE: 1.4018\n",
        "Середні часи навчання (Fit time) та часи тестування (Test time) на кожному спліті заняли відповідно приблизно 8.05 та 5.45 секунд.\n",
        "NMF:\n",
        "Найкращі параметри: {'n_epochs': 20, 'n_factors': 20, 'reg_pu': 0.06, 'reg_qi': 0.06}\n",
        "Найкраща RMSE: 1.1047\n",
        "Найкраща MAE: 0.8408\n",
        "Середні часи навчання (Fit time) та часи тестування (Test time) на кожному спліті заняли відповідно приблизно 1.35 та 0.23 секунди.\n",
        "SVD показує найкращі результати серед усіх трьох алгоритмів з найнижчими значеннями RMSE (0.9517) та MAE (0.7498).\n",
        "\n",
        "SVD++ показує значно гірші результати порівняно з SVD, з набагато вищими значеннями RMSE (1.7480) та MAE (1.4018). SVD++ враховує неявний відгук, крім явних оцінок, але в даному випадку це не призвело до поліпшення результатів. SVDpp є найповільнішим алгоритмом, так як виконується тривало через високий обчислювальний ресурс, який потрібен для обробки більш складних моделей.\n",
        "\n",
        "NMF показує кращі результати, ніж SVD++, але гірші, ніж SVD. Його RMSE (1.1047) та MAE (0.8408) нижчі, ніж у SVD++, але все ж вищі, ніж у SVD. NMF має інший підхід до факторизації матриць, який спрямований на розкладання матриць на невід'ємні компоненти.\n",
        "\n",
        "Загалом, SVD виділяється як найефективніший алгоритм для даного набору даних, надаючи найкращу точність прогнозування для рейтингів фільмів."
      ],
      "metadata": {
        "id": "P6RnVt8f-7T1"
      }
    },
    {
      "cell_type": "markdown",
      "source": [],
      "metadata": {
        "id": "D-XLR-q0_K2d"
      }
    },
    {
      "cell_type": "code",
      "source": [],
      "metadata": {
        "id": "7vwrD10v-8nI"
      },
      "execution_count": null,
      "outputs": []
    }
  ]
}